{
 "cells": [
  {
   "cell_type": "code",
   "execution_count": 1,
   "id": "70e55259-1165-4744-a3c3-f2e12bb1beb3",
   "metadata": {},
   "outputs": [],
   "source": [
    "import requests\n",
    "from bs4 import BeautifulSoup\n",
    "import pandas as pd"
   ]
  },
  {
   "cell_type": "code",
   "execution_count": 2,
   "id": "83b3032c-e5ea-4d58-b5c2-1f9d05c9fd0f",
   "metadata": {},
   "outputs": [],
   "source": [
    "df = pd.read_csv('OnlineNewsPopularity.csv')"
   ]
  },
  {
   "cell_type": "code",
   "execution_count": 3,
   "id": "497d4696-8a68-464a-b2df-56e84add2d1c",
   "metadata": {},
   "outputs": [],
   "source": [
    "def first_n_words(text,sequence_length = 100):\n",
    "    # Split the text into individual words\n",
    "    words = text.split()\n",
    "    text = ''\n",
    "    # Print the first 100 words\n",
    "    for i in range(sequence_length):\n",
    "        if i < len(words):\n",
    "            text += words[i] + ' '\n",
    "        else:\n",
    "            break\n",
    "    return text\n",
    "# Send a GET request to the URL\n",
    "def get_news(url,sequence_length = 100):\n",
    "    headline_text = ''\n",
    "    body_text = ''\n",
    "    published_date_text = ''\n",
    "    response = requests.get(url)\n",
    "    # Create a BeautifulSoup object to parse the HTML content\n",
    "    soup = BeautifulSoup(response.content, \"html.parser\")    \n",
    "    # Find the elements containing the news headlines/body/published_date  \n",
    "    \n",
    "    headlines = soup.find_all(\"h1\")\n",
    "    bodys = soup.find_all(\"p\")\n",
    "    times = soup.find_all(\"time\")\n",
    "    \n",
    "    # Extract and print the headlines\n",
    "    for headline in headlines:\n",
    "        headline_text += headline.text\n",
    "    for body in bodys:\n",
    "        body_text += body.text\n",
    "    for time in times:\n",
    "        published_date_text += time.text       \n",
    "    return(headline_text,first_n_words(body_text,sequence_length),published_date_text)"
   ]
  },
  {
   "cell_type": "code",
   "execution_count": 4,
   "id": "56c030f3-2a6b-475a-b856-ea9eede3e6cd",
   "metadata": {},
   "outputs": [
    {
     "name": "stdout",
     "output_type": "stream",
     "text": [
      "100\n"
     ]
    }
   ],
   "source": [
    "n = 100\n",
    "urls = df['url'][:n]\n",
    "news_headline = []\n",
    "news_body = []\n",
    "news_published_date = []\n",
    "counter = 1\n",
    "for url in urls:\n",
    "    news_headline.append(get_news(url,100)[0])\n",
    "    news_body.append(get_news(url,100)[1])\n",
    "    news_published_date.append(get_news(url,100)[2])\n",
    "    counter += 1\n",
    "    if counter%100 == 0:\n",
    "        print(counter)"
   ]
  },
  {
   "cell_type": "code",
   "execution_count": 5,
   "id": "b48ff30f-efa1-48ad-b6b4-5bdb6210636a",
   "metadata": {},
   "outputs": [],
   "source": [
    "news_df = pd.DataFrame(list(zip(urls,\n",
    "                               news_headline,\n",
    "                               news_body,\n",
    "                               news_published_date,\n",
    "                               df[' global_sentiment_polarity'][:n],\n",
    "                               df[' shares'][:n])))\n",
    "news_df.columns = ['url',\n",
    "                   'headline',\n",
    "                   'body',\n",
    "                  'publish_date',\n",
    "                  'global_sentiment_polarity',\n",
    "                  'shares']\n",
    "\n",
    "news_df['publish_date'] = pd.to_datetime(news_df['publish_date'])\n"
   ]
  },
  {
   "cell_type": "code",
   "execution_count": 6,
   "id": "88c801e5-e7bc-4348-81f5-eea1a715223f",
   "metadata": {},
   "outputs": [],
   "source": [
    "news_df.to_csv('news_popularity.csv',index=False\n",
    "            )"
   ]
  },
  {
   "cell_type": "code",
   "execution_count": null,
   "id": "2f9c81d0-d0cb-4757-a463-4819602fdd74",
   "metadata": {},
   "outputs": [],
   "source": []
  }
 ],
 "metadata": {
  "kernelspec": {
   "display_name": "Python 3 (ipykernel)",
   "language": "python",
   "name": "python3"
  },
  "language_info": {
   "codemirror_mode": {
    "name": "ipython",
    "version": 3
   },
   "file_extension": ".py",
   "mimetype": "text/x-python",
   "name": "python",
   "nbconvert_exporter": "python",
   "pygments_lexer": "ipython3",
   "version": "3.11.3"
  }
 },
 "nbformat": 4,
 "nbformat_minor": 5
}
